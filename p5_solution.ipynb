{
 "cells": [
  {
   "cell_type": "code",
   "execution_count": 1,
   "metadata": {
    "collapsed": true
   },
   "outputs": [],
   "source": [
    "import numpy as np\n",
    "import cv2\n",
    "import glob\n",
    "import matplotlib.pyplot as plt\n",
    "from skimage import io\n",
    "%matplotlib inline\n",
    "\n",
    "from aux_fun import *"
   ]
  },
  {
   "cell_type": "code",
   "execution_count": 2,
   "metadata": {
    "collapsed": true
   },
   "outputs": [],
   "source": [
    "pos_image_fnames = glob.glob('data/vehicles/KITTI_extracted/*.png')\n",
    "neg_image_fnames = glob.glob('data/non-vehicles/Extras/extra*.png')"
   ]
  },
  {
   "cell_type": "code",
   "execution_count": 3,
   "metadata": {
    "collapsed": false
   },
   "outputs": [
    {
     "data": {
      "image/png": "[encoded data removed]",
      "text/plain": [
       "<matplotlib.figure.Figure at 0x24f488cd320>"
      ]
     },
     "metadata": {},
     "output_type": "display_data"
    }
   ],
   "source": [
    "test_pos_img = io.imread(pos_image_fnames[0])\n",
    "plt.imshow(test_pos_img);"
   ]
  },
  {
   "cell_type": "code",
   "execution_count": 4,
   "metadata": {
    "collapsed": false
   },
   "outputs": [
    {
     "data": {
      "image/png": "[encoded data removed]",
      "text/plain": [
       "<matplotlib.figure.Figure at 0x24f48a935f8>"
      ]
     },
     "metadata": {},
     "output_type": "display_data"
    }
   ],
   "source": [
    "pix_per_cell = 8\n",
    "cell_per_block = 2\n",
    "orient = 9\n",
    "\n",
    "features, hog_image = extract_hog_features(\n",
    "    cv2.cvtColor(test_pos_img, cv2.COLOR_RGB2LUV)[:,:,0],\n",
    "    orientations=9, \n",
    "    pixels_per_cell=8, \n",
    "    cells_per_block=2, \n",
    "    vis=True\n",
    ")\n",
    "\n",
    "plt.imshow(hog_image, cmap='gray');"
   ]
  },
  {
   "cell_type": "code",
   "execution_count": 5,
   "metadata": {
    "collapsed": true
   },
   "outputs": [],
   "source": [
    "def extract_features(img_list):\n",
    "    feature_list = list()\n",
    "    for img_fname in img_list:\n",
    "        img_rgb = io.imread(img_fname)\n",
    "        #spatial_features = extract_spatial_features(img_rgb)\n",
    "        #hist_features = extract_hist_features(img_rgb)\n",
    "        img_luv = cv2.cvtColor(img_rgb, cv2.COLOR_RGB2LUV)\n",
    "        hog_features = extract_hog_features(img_luv[:,:,0], \n",
    "                                            orientations=9, pixels_per_cell=8, cells_per_block=2)\n",
    "        #feature_list.append(np.concatenate([spatial_features, hist_features, hog_features]))\n",
    "        feature_list.append(hog_features)\n",
    "    return np.vstack(feature_list)"
   ]
  },
  {
   "cell_type": "code",
   "execution_count": 6,
   "metadata": {
    "collapsed": true
   },
   "outputs": [],
   "source": [
    "from sklearn.utils import shuffle\n",
    "def build_dataset(positive_fname_list, negative_fname_list):\n",
    "    X_0 = extract_features(negative_fname_list)\n",
    "    y_0 = np.zeros(X_0.shape[0])\n",
    "    X_1 = extract_features(positive_fname_list)\n",
    "    y_1 = np.ones(X_1.shape[0])\n",
    "    return shuffle(np.vstack([X_0, X_1]), np.concatenate([y_0, y_1]))"
   ]
  },
  {
   "cell_type": "code",
   "execution_count": 7,
   "metadata": {
    "collapsed": false
   },
   "outputs": [],
   "source": [
    "X, y = build_dataset(pos_image_fnames, neg_image_fnames)"
   ]
  },
  {
   "cell_type": "code",
   "execution_count": 8,
   "metadata": {
    "collapsed": false
   },
   "outputs": [],
   "source": [
    "from sklearn.model_selection import train_test_split\n",
    "X_train, X_test, y_train, y_test = train_test_split(X, y, test_size=0.2)"
   ]
  },
  {
   "cell_type": "code",
   "execution_count": 9,
   "metadata": {
    "collapsed": true
   },
   "outputs": [],
   "source": [
    "from xgboost import XGBClassifier\n",
    "clf = XGBClassifier()"
   ]
  },
  {
   "cell_type": "code",
   "execution_count": 10,
   "metadata": {
    "collapsed": false
   },
   "outputs": [
    {
     "name": "stdout",
     "output_type": "stream",
     "text": [
      "CV score: 0.997 +- 0.001\n"
     ]
    }
   ],
   "source": [
    "from sklearn.model_selection import cross_val_score\n",
    "score_list = cross_val_score(clf, X_train, y_train, scoring='roc_auc')\n",
    "print('CV score: %0.3f +- %0.3f' % (np.mean(score_list), 2*np.std(score_list)))"
   ]
  },
  {
   "cell_type": "code",
   "execution_count": 11,
   "metadata": {
    "collapsed": false
   },
   "outputs": [
    {
     "data": {
      "text/plain": [
       "XGBClassifier(base_score=0.5, colsample_bylevel=1, colsample_bytree=1,\n",
       "       gamma=0, learning_rate=0.1, max_delta_step=0, max_depth=3,\n",
       "       min_child_weight=1, missing=None, n_estimators=100, nthread=-1,\n",
       "       objective='binary:logistic', reg_alpha=0, reg_lambda=1,\n",
       "       scale_pos_weight=1, seed=0, silent=True, subsample=1)"
      ]
     },
     "execution_count": 11,
     "metadata": {},
     "output_type": "execute_result"
    }
   ],
   "source": [
    "clf.fit(X_train, y_train)"
   ]
  },
  {
   "cell_type": "code",
   "execution_count": 12,
   "metadata": {
    "collapsed": false
   },
   "outputs": [
    {
     "name": "stdout",
     "output_type": "stream",
     "text": [
      "Test score - roc_auc: 0.998\n",
      "Test score - accuracy: 0.981\n"
     ]
    }
   ],
   "source": [
    "from sklearn.metrics import roc_auc_score, accuracy_score\n",
    "print('Test score - roc_auc: %0.3f' % roc_auc_score(y_test, clf.predict_proba(X_test)[:,1]))\n",
    "print('Test score - accuracy: %0.3f' % accuracy_score(y_test, clf.predict(X_test)))"
   ]
  }
 ],
 "metadata": {
  "kernelspec": {
   "display_name": "Python [conda root]",
   "language": "python",
   "name": "conda-root-py"
  },
  "language_info": {
   "codemirror_mode": {
    "name": "ipython",
    "version": 3
   },
   "file_extension": ".py",
   "mimetype": "text/x-python",
   "name": "python",
   "nbconvert_exporter": "python",
   "pygments_lexer": "ipython3",
   "version": "3.5.2"
  }
 },
 "nbformat": 4,
 "nbformat_minor": 2
}
